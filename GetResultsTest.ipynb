{
 "cells": [
  {
   "cell_type": "markdown",
   "id": "bottom-still",
   "metadata": {},
   "source": [
    "# Data Processing #"
   ]
  },
  {
   "cell_type": "code",
   "execution_count": 26,
   "id": "measured-exhibition",
   "metadata": {},
   "outputs": [],
   "source": [
    "#hardcoded vals for testing\n",
    "features = [\"GDP per capita\", \"Social support\",\n",
    "                \"Healthy life expectancy\", \"Freedom to make life choices\", \"Generosity\", \"Perceptions of corruption\"]\n",
    "target = \"Score\"\n",
    "title = \"testing testing\"\n",
    "testSize = 0.1\n",
    "randomState = 4 # for reproducible output\n",
    "numFolds = 10"
   ]
  },
  {
   "cell_type": "code",
   "execution_count": 27,
   "id": "linear-plain",
   "metadata": {},
   "outputs": [
    {
     "name": "stdout",
     "output_type": "stream",
     "text": [
      "(156, 6)\n"
     ]
    },
    {
     "data": {
      "text/html": [
       "<div>\n",
       "<style scoped>\n",
       "    .dataframe tbody tr th:only-of-type {\n",
       "        vertical-align: middle;\n",
       "    }\n",
       "\n",
       "    .dataframe tbody tr th {\n",
       "        vertical-align: top;\n",
       "    }\n",
       "\n",
       "    .dataframe thead th {\n",
       "        text-align: right;\n",
       "    }\n",
       "</style>\n",
       "<table border=\"1\" class=\"dataframe\">\n",
       "  <thead>\n",
       "    <tr style=\"text-align: right;\">\n",
       "      <th></th>\n",
       "      <th>GDP per capita</th>\n",
       "      <th>Social support</th>\n",
       "      <th>Healthy life expectancy</th>\n",
       "      <th>Freedom to make life choices</th>\n",
       "      <th>Generosity</th>\n",
       "      <th>Perceptions of corruption</th>\n",
       "    </tr>\n",
       "  </thead>\n",
       "  <tbody>\n",
       "    <tr>\n",
       "      <th>0</th>\n",
       "      <td>1.340</td>\n",
       "      <td>1.587</td>\n",
       "      <td>0.986</td>\n",
       "      <td>0.596</td>\n",
       "      <td>0.153</td>\n",
       "      <td>0.393</td>\n",
       "    </tr>\n",
       "    <tr>\n",
       "      <th>1</th>\n",
       "      <td>1.383</td>\n",
       "      <td>1.573</td>\n",
       "      <td>0.996</td>\n",
       "      <td>0.592</td>\n",
       "      <td>0.252</td>\n",
       "      <td>0.410</td>\n",
       "    </tr>\n",
       "    <tr>\n",
       "      <th>2</th>\n",
       "      <td>1.488</td>\n",
       "      <td>1.582</td>\n",
       "      <td>1.028</td>\n",
       "      <td>0.603</td>\n",
       "      <td>0.271</td>\n",
       "      <td>0.341</td>\n",
       "    </tr>\n",
       "  </tbody>\n",
       "</table>\n",
       "</div>"
      ],
      "text/plain": [
       "   GDP per capita  Social support  Healthy life expectancy  \\\n",
       "0           1.340           1.587                    0.986   \n",
       "1           1.383           1.573                    0.996   \n",
       "2           1.488           1.582                    1.028   \n",
       "\n",
       "   Freedom to make life choices  Generosity  Perceptions of corruption  \n",
       "0                         0.596       0.153                      0.393  \n",
       "1                         0.592       0.252                      0.410  \n",
       "2                         0.603       0.271                      0.341  "
      ]
     },
     "execution_count": 27,
     "metadata": {},
     "output_type": "execute_result"
    }
   ],
   "source": [
    "# create pandas dataframe\n",
    "import pandas as pd\n",
    "\n",
    "data = pd.read_csv(\"caraml/caraml/media/happiness.csv\")\n",
    "\n",
    "X = data.loc[:,features]\n",
    "y = data.loc[:,target]\n",
    "print(X.shape)\n",
    "X.head(3)"
   ]
  },
  {
   "cell_type": "markdown",
   "id": "herbal-correspondence",
   "metadata": {},
   "source": [
    "# Data Analysis #"
   ]
  },
  {
   "cell_type": "code",
   "execution_count": 34,
   "id": "hungry-presentation",
   "metadata": {},
   "outputs": [
    {
     "name": "stdout",
     "output_type": "stream",
     "text": [
      "r squared for fold 0 is 0.6743605659171716\n",
      "r squared for fold 1 is 0.7498664860472705\n",
      "r squared for fold 2 is 0.7404867135145543\n",
      "r squared for fold 3 is 0.8702585621373055\n",
      "r squared for fold 4 is 0.7948691048560934\n",
      "r squared for fold 5 is 0.907648376092676\n",
      "r squared for fold 6 is 0.6239831559349951\n",
      "r squared for fold 7 is 0.6245190260881304\n",
      "r squared for fold 8 is 0.659597734651052\n",
      "r squared for fold 9 is 0.6523650881191467\n",
      "average score is 0.7297954813358395\n"
     ]
    }
   ],
   "source": [
    "from sklearn.model_selection import KFold\n",
    "from sklearn.linear_model import LinearRegression\n",
    "\n",
    "# initialize KFolds\n",
    "kf = KFold(n_splits=numFolds, shuffle=True, random_state=randomState)\n",
    "\n",
    "score = 0\n",
    "##### cross validation and model evaluation #####\n",
    "for fold, (train_idx, test_idx) in enumerate(kf.split(X)):\n",
    "    ## pre-processing phase\n",
    "    #define train and test \n",
    "    X_train = X.loc[train_idx,:]\n",
    "    X_test = X.loc[test_idx,:]\n",
    "    y_train = y.loc[train_idx]\n",
    "    y_test = y.loc[test_idx]\n",
    "\n",
    "    ## use k-NN to predict and get r squared\n",
    "    # create and fit model\n",
    "    model = LinearRegression().fit(X_train, y_train)\n",
    "\n",
    "    # predict using new model and compute r_squared value\n",
    "    y_pred = model.predict(X_test)\n",
    "    r_squared = model.score(X_test, y_test)\n",
    "\n",
    "    # sum\n",
    "    score += r_squared\n",
    "    \n",
    "    print(f'r squared for fold {fold} is {r_squared}')\n",
    "\n",
    "avg_score = score/(fold+1)\n",
    "\n",
    "print(f'average score is {avg_score}')"
   ]
  },
  {
   "cell_type": "markdown",
   "id": "requested-counter",
   "metadata": {},
   "source": [
    "# Double Checking #\n",
    "Below, I'm checking if this works for train_test_split the way I was thinking (one of the KFolds values and the value below should be very close)"
   ]
  },
  {
   "cell_type": "code",
   "execution_count": 32,
   "id": "responsible-birth",
   "metadata": {},
   "outputs": [
    {
     "name": "stdout",
     "output_type": "stream",
     "text": [
      "r squared is 0.6743605659171727\n"
     ]
    }
   ],
   "source": [
    "# check single fold calculations to validate this\n",
    "from sklearn.model_selection import train_test_split\n",
    "\n",
    "X_train, X_test, y_train, y_test = train_test_split(X, y, test_size=testSize, random_state=randomState)\n",
    "\n",
    "# create and fit model\n",
    "model = LinearRegression().fit(X_train, y_train)\n",
    "\n",
    "# predict using new model and compute r_squared value\n",
    "y_pred = model.predict(X_test)\n",
    "r_squared = model.score(X_test, y_test)\n",
    "\n",
    "print(f'r squared is {r_squared}')"
   ]
  }
 ],
 "metadata": {
  "kernelspec": {
   "display_name": "Python 3",
   "language": "python",
   "name": "python3"
  },
  "language_info": {
   "codemirror_mode": {
    "name": "ipython",
    "version": 3
   },
   "file_extension": ".py",
   "mimetype": "text/x-python",
   "name": "python",
   "nbconvert_exporter": "python",
   "pygments_lexer": "ipython3",
   "version": "3.7.9"
  }
 },
 "nbformat": 4,
 "nbformat_minor": 5
}
